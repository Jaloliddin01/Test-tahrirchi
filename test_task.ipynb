{
  "nbformat": 4,
  "nbformat_minor": 0,
  "metadata": {
    "colab": {
      "provenance": [],
      "toc_visible": true,
      "authorship_tag": "ABX9TyMPZp8VLNVpeoxpMtNTH4Du",
      "include_colab_link": true
    },
    "kernelspec": {
      "name": "python3",
      "display_name": "Python 3"
    },
    "language_info": {
      "name": "python"
    }
  },
  "cells": [
    {
      "cell_type": "markdown",
      "metadata": {
        "id": "view-in-github",
        "colab_type": "text"
      },
      "source": [
        "<a href=\"https://colab.research.google.com/github/Jaloliddin01/Test-tahrirchi/blob/main/test_task.ipynb\" target=\"_parent\"><img src=\"https://colab.research.google.com/assets/colab-badge.svg\" alt=\"Open In Colab\"/></a>"
      ]
    },
    {
      "cell_type": "markdown",
      "source": [
        "**STEP** **1**"
      ],
      "metadata": {
        "id": "ddJXb2GTQxZw"
      }
    },
    {
      "cell_type": "code",
      "execution_count": 38,
      "metadata": {
        "id": "hCrNDnhX-ffv"
      },
      "outputs": [],
      "source": [
        "import pandas as pd\n",
        "import requests\n",
        "from datetime import datetime\n",
        "\n",
        "from bs4 import BeautifulSoup"
      ]
    },
    {
      "cell_type": "code",
      "source": [
        "cur_time = datetime.datetime.now() # getting time\n",
        "\n",
        "current_time = (f\"{cur_time.strftime('%d')}.{cur_time.strftime('%m')}.{cur_time.strftime('%Y')}\") # a time that process occurs\n",
        "\n",
        "\n",
        "# some articles written in Uzbek\n",
        "url1 = 'https://kun.uz/uz/news/2023/01/01/haqiqiy-islohotlar-toxtab-qolmasligi-kerak-yil-dayjesti'\n",
        "url2 = 'https://kun.uz/uz/news/2022/12/29/2023-yil-1-yanvardan-qonunchilikda-nimalar-ozgaradi'\n",
        "url3 = 'https://kun.uz/uz/news/2023/01/03/yevropa-ittifoqi-xitoyga-bepul-covid-19-vaksinalarini-taklif-qildi'\n",
        "\n",
        "urls = [url1, url2, url3] # listing all the sources of articles so that we can simply generate them in a loop and make the code clear and readable\n",
        "\n",
        "# some coding in order to scrape data from kun.uz articles and collecting them in a dataframe so that we can use them for several purposes \n",
        "d = []\n",
        "for url in urls:\n",
        "  res = requests.get(url)\n",
        "  soup = BeautifulSoup(res.text, 'html.parser')\n",
        "\n",
        "  data = str()\n",
        "  for txt in soup.select('p'):\n",
        "    data = data + txt.text\n",
        "  \n",
        "  d.append({\n",
        "      'source_url': url,\n",
        "      'access_datetime': current_time,\n",
        "      'content': data\n",
        "  })\n",
        "\n",
        "df = pd.DataFrame(data=d)"
      ],
      "metadata": {
        "id": "U37ulYm9-zEK"
      },
      "execution_count": 50,
      "outputs": []
    },
    {
      "cell_type": "code",
      "source": [
        "df # our dataframe"
      ],
      "metadata": {
        "colab": {
          "base_uri": "https://localhost:8080/",
          "height": 143
        },
        "id": "5U9AMbAkO7SH",
        "outputId": "ccc49f09-9a54-4ccd-ebd3-76f14fc7d1d0"
      },
      "execution_count": 51,
      "outputs": [
        {
          "output_type": "execute_result",
          "data": {
            "text/plain": [
              "                                          source_url access_datetime  \\\n",
              "0  https://kun.uz/uz/news/2023/01/01/haqiqiy-islo...      03.01.2023   \n",
              "1  https://kun.uz/uz/news/2022/12/29/2023-yil-1-y...      03.01.2023   \n",
              "2  https://kun.uz/uz/news/2023/01/03/yevropa-itti...      03.01.2023   \n",
              "\n",
              "                                             content  \n",
              "0  Avvaliga eng yaxshi yangiliklardan ayrimlarini...  \n",
              "1  Maksimal pensiya miqdori oshiriladiPrezident f...  \n",
              "2  Yevropa Ittifoqi Xitoyga pandemiya bilan bog‘l...  "
            ],
            "text/html": [
              "\n",
              "  <div id=\"df-cde2e692-4fdf-4ef0-9215-d16304e90abf\">\n",
              "    <div class=\"colab-df-container\">\n",
              "      <div>\n",
              "<style scoped>\n",
              "    .dataframe tbody tr th:only-of-type {\n",
              "        vertical-align: middle;\n",
              "    }\n",
              "\n",
              "    .dataframe tbody tr th {\n",
              "        vertical-align: top;\n",
              "    }\n",
              "\n",
              "    .dataframe thead th {\n",
              "        text-align: right;\n",
              "    }\n",
              "</style>\n",
              "<table border=\"1\" class=\"dataframe\">\n",
              "  <thead>\n",
              "    <tr style=\"text-align: right;\">\n",
              "      <th></th>\n",
              "      <th>source_url</th>\n",
              "      <th>access_datetime</th>\n",
              "      <th>content</th>\n",
              "    </tr>\n",
              "  </thead>\n",
              "  <tbody>\n",
              "    <tr>\n",
              "      <th>0</th>\n",
              "      <td>https://kun.uz/uz/news/2023/01/01/haqiqiy-islo...</td>\n",
              "      <td>03.01.2023</td>\n",
              "      <td>Avvaliga eng yaxshi yangiliklardan ayrimlarini...</td>\n",
              "    </tr>\n",
              "    <tr>\n",
              "      <th>1</th>\n",
              "      <td>https://kun.uz/uz/news/2022/12/29/2023-yil-1-y...</td>\n",
              "      <td>03.01.2023</td>\n",
              "      <td>Maksimal pensiya miqdori oshiriladiPrezident f...</td>\n",
              "    </tr>\n",
              "    <tr>\n",
              "      <th>2</th>\n",
              "      <td>https://kun.uz/uz/news/2023/01/03/yevropa-itti...</td>\n",
              "      <td>03.01.2023</td>\n",
              "      <td>Yevropa Ittifoqi Xitoyga pandemiya bilan bog‘l...</td>\n",
              "    </tr>\n",
              "  </tbody>\n",
              "</table>\n",
              "</div>\n",
              "      <button class=\"colab-df-convert\" onclick=\"convertToInteractive('df-cde2e692-4fdf-4ef0-9215-d16304e90abf')\"\n",
              "              title=\"Convert this dataframe to an interactive table.\"\n",
              "              style=\"display:none;\">\n",
              "        \n",
              "  <svg xmlns=\"http://www.w3.org/2000/svg\" height=\"24px\"viewBox=\"0 0 24 24\"\n",
              "       width=\"24px\">\n",
              "    <path d=\"M0 0h24v24H0V0z\" fill=\"none\"/>\n",
              "    <path d=\"M18.56 5.44l.94 2.06.94-2.06 2.06-.94-2.06-.94-.94-2.06-.94 2.06-2.06.94zm-11 1L8.5 8.5l.94-2.06 2.06-.94-2.06-.94L8.5 2.5l-.94 2.06-2.06.94zm10 10l.94 2.06.94-2.06 2.06-.94-2.06-.94-.94-2.06-.94 2.06-2.06.94z\"/><path d=\"M17.41 7.96l-1.37-1.37c-.4-.4-.92-.59-1.43-.59-.52 0-1.04.2-1.43.59L10.3 9.45l-7.72 7.72c-.78.78-.78 2.05 0 2.83L4 21.41c.39.39.9.59 1.41.59.51 0 1.02-.2 1.41-.59l7.78-7.78 2.81-2.81c.8-.78.8-2.07 0-2.86zM5.41 20L4 18.59l7.72-7.72 1.47 1.35L5.41 20z\"/>\n",
              "  </svg>\n",
              "      </button>\n",
              "      \n",
              "  <style>\n",
              "    .colab-df-container {\n",
              "      display:flex;\n",
              "      flex-wrap:wrap;\n",
              "      gap: 12px;\n",
              "    }\n",
              "\n",
              "    .colab-df-convert {\n",
              "      background-color: #E8F0FE;\n",
              "      border: none;\n",
              "      border-radius: 50%;\n",
              "      cursor: pointer;\n",
              "      display: none;\n",
              "      fill: #1967D2;\n",
              "      height: 32px;\n",
              "      padding: 0 0 0 0;\n",
              "      width: 32px;\n",
              "    }\n",
              "\n",
              "    .colab-df-convert:hover {\n",
              "      background-color: #E2EBFA;\n",
              "      box-shadow: 0px 1px 2px rgba(60, 64, 67, 0.3), 0px 1px 3px 1px rgba(60, 64, 67, 0.15);\n",
              "      fill: #174EA6;\n",
              "    }\n",
              "\n",
              "    [theme=dark] .colab-df-convert {\n",
              "      background-color: #3B4455;\n",
              "      fill: #D2E3FC;\n",
              "    }\n",
              "\n",
              "    [theme=dark] .colab-df-convert:hover {\n",
              "      background-color: #434B5C;\n",
              "      box-shadow: 0px 1px 3px 1px rgba(0, 0, 0, 0.15);\n",
              "      filter: drop-shadow(0px 1px 2px rgba(0, 0, 0, 0.3));\n",
              "      fill: #FFFFFF;\n",
              "    }\n",
              "  </style>\n",
              "\n",
              "      <script>\n",
              "        const buttonEl =\n",
              "          document.querySelector('#df-cde2e692-4fdf-4ef0-9215-d16304e90abf button.colab-df-convert');\n",
              "        buttonEl.style.display =\n",
              "          google.colab.kernel.accessAllowed ? 'block' : 'none';\n",
              "\n",
              "        async function convertToInteractive(key) {\n",
              "          const element = document.querySelector('#df-cde2e692-4fdf-4ef0-9215-d16304e90abf');\n",
              "          const dataTable =\n",
              "            await google.colab.kernel.invokeFunction('convertToInteractive',\n",
              "                                                     [key], {});\n",
              "          if (!dataTable) return;\n",
              "\n",
              "          const docLinkHtml = 'Like what you see? Visit the ' +\n",
              "            '<a target=\"_blank\" href=https://colab.research.google.com/notebooks/data_table.ipynb>data table notebook</a>'\n",
              "            + ' to learn more about interactive tables.';\n",
              "          element.innerHTML = '';\n",
              "          dataTable['output_type'] = 'display_data';\n",
              "          await google.colab.output.renderOutput(dataTable, element);\n",
              "          const docLink = document.createElement('div');\n",
              "          docLink.innerHTML = docLinkHtml;\n",
              "          element.appendChild(docLink);\n",
              "        }\n",
              "      </script>\n",
              "    </div>\n",
              "  </div>\n",
              "  "
            ]
          },
          "metadata": {},
          "execution_count": 51
        }
      ]
    }
  ]
}